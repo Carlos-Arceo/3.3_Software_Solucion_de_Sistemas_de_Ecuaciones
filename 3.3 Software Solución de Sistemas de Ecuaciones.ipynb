{
 "cells": [
  {
   "cell_type": "markdown",
   "id": "entitled-bearing",
   "metadata": {},
   "source": [
    "#(SISTEMAS COMPUTACIONALES 4A)\n",
    "\n",
    "#INTEGRANTES DEL EQUIPO:\n",
    "\n",
    "    #UUH ARCEO CARLOS MANUEL |19070065\n",
    "    #KANTUN TUZ JEENRI RIQUELME |19070031\n",
    "    #CAB PEÑA ADRIÁN ARTURO |19070059"
   ]
  },
  {
   "cell_type": "markdown",
   "id": "popular-coverage",
   "metadata": {},
   "source": [
    "# Metodo Jacobi"
   ]
  },
  {
   "cell_type": "code",
   "execution_count": 14,
   "id": "unsigned-statistics",
   "metadata": {},
   "outputs": [],
   "source": [
    "import numpy as np\n",
    "from math import *"
   ]
  },
  {
   "cell_type": "code",
   "execution_count": 2,
   "id": "legitimate-jacob",
   "metadata": {},
   "outputs": [],
   "source": [
    "T = np.asarray([[0,1/10,-1/5,0],[1/11,0,1/11,-3/11],[-1/5,1/10,0,1/10],[0,-3/8,1/8,0]])\n",
    "c=np.asarray([3/5,25/11,-11/10,15/8])\n",
    "x=np.asarray([0,0,0,0])"
   ]
  },
  {
   "cell_type": "code",
   "execution_count": 3,
   "id": "scientific-discharge",
   "metadata": {},
   "outputs": [
    {
     "name": "stdout",
     "output_type": "stream",
     "text": [
      "Vector resultado:  [ 0.6         2.27272727 -1.1         1.875     ]\n",
      "Vector resultado:  [ 1.04727273  1.71590909 -0.80522727  0.88522727]\n",
      "Vector resultado:  [ 0.93263636  2.05330579 -1.04934091  1.13088068]\n",
      "Vector resultado:  [ 1.01519876  1.95369576 -0.96810863  0.97384272]\n",
      "Vector resultado:  [ 0.9889913   2.01141473 -1.0102859   1.02135051]\n",
      "Vector resultado:  [ 1.00319865  1.99224126 -0.99452174  0.99443374]\n"
     ]
    }
   ],
   "source": [
    "error=1\n",
    "while error>0.01:\n",
    "    resultado = np.dot(T,x) + c\n",
    "    numerador = np.amax(abs(resultado-x))\n",
    "    denominador = np.amax(abs(resultado))\n",
    "    error= numerador/denominador\n",
    "    if error>=0.01:\n",
    "        print(\"Vector resultado: \",resultado)\n",
    "        x=resultado"
   ]
  },
  {
   "cell_type": "markdown",
   "id": "controversial-spine",
   "metadata": {},
   "source": [
    "# Metodo Gauss Seidel"
   ]
  },
  {
   "cell_type": "code",
   "execution_count": 9,
   "id": "durable-flush",
   "metadata": {},
   "outputs": [],
   "source": [
    "T = np.asarray([[0,1/10,-1/5,0],[1/11,0,1/11,-3/11],[-1/5,1/10,0,1/10],[0,-3/8,1/8,0]])\n",
    "c=np.asarray([3/5,25/11,-11/10,15/8])\n",
    "x=np.asarray([0,0,0,0])\n",
    "x=x.astype(float)\n",
    "xcambiante=x\n",
    "xcambiante=xcambiante.astype(float)"
   ]
  },
  {
   "cell_type": "code",
   "execution_count": 10,
   "id": "compressed-clinic",
   "metadata": {},
   "outputs": [],
   "source": [
    "def gauss_seidel(xcambiante,T):\n",
    "    x1=np.dot(T[[0,0,0,0], [0,1,2,3]],xcambiante)\n",
    "    x1+=c[0]\n",
    "    xcambiante[0]=x1\n",
    "    x2=np.dot(T[[1,1,1,1], [0,1,2,3]],xcambiante)\n",
    "    x2+=c[1]\n",
    "    xcambiante[1]=x2\n",
    "    x3=np.dot(T[[2,2,2,2], [0,1,2,3]],xcambiante)\n",
    "    x3+=c[2]\n",
    "    xcambiante[2]=x3\n",
    "    x4=np.dot(T[[3,3,3,3], [0,1,2,3]],xcambiante)\n",
    "    x4+=c[3]\n",
    "    xcambiante[3]=x4\n",
    "    r=np.asarray([x1,x2,x3,x4])\n",
    "    return r"
   ]
  },
  {
   "cell_type": "code",
   "execution_count": 8,
   "id": "technical-invitation",
   "metadata": {},
   "outputs": [
    {
     "name": "stdout",
     "output_type": "stream",
     "text": [
      "Vector resultado:  [ 0.6         2.32727273 -0.98727273  0.87886364]\n",
      "Vector resultado:  [ 1.03018182  2.03693802 -1.0144562   0.98434122]\n",
      "Vector resultado:  [ 1.00658504  2.00355502 -1.00252738  0.99835095]\n"
     ]
    }
   ],
   "source": [
    "error=1\n",
    "while error>0.01:\n",
    "    resultado=gauss_seidel(xcambiante,T)\n",
    "    numerador = np.amax(abs(resultado-x))\n",
    "    denominador = np.amax(abs(resultado))\n",
    "    error= numerador/denominador\n",
    "    if error>=0.01:\n",
    "        print(\"Vector resultado: \",resultado)\n",
    "        x=resultado"
   ]
  },
  {
   "cell_type": "markdown",
   "id": "varying-outdoors",
   "metadata": {},
   "source": [
    "# Metodo Newton Raphson"
   ]
  },
  {
   "cell_type": "code",
   "execution_count": 11,
   "id": "hispanic-capture",
   "metadata": {},
   "outputs": [],
   "source": [
    "def jacobiano(x):\n",
    "    J = np.array([[8*x[0]-20,1/2*x[1]],[1/2*x[1]**2+2,x[0]*x[1]-5]])\n",
    "    JInversa = np.linalg.inv(J)\n",
    "    return JInversa\n",
    "\n",
    "def Fx(x):\n",
    "    xk = np.array([4*x[0]**2-20*x[0]+1/4*x[1]**2+8,1/2*x[0]*x[1]**2+2*x[0]-5*x[1]+8])\n",
    "    return xk"
   ]
  },
  {
   "cell_type": "code",
   "execution_count": 12,
   "id": "criminal-diagram",
   "metadata": {},
   "outputs": [],
   "source": [
    "x=np.array([0,0])\n",
    "x=x.astype(float)\n",
    "error = 1\n",
    "c=0"
   ]
  },
  {
   "cell_type": "code",
   "execution_count": 13,
   "id": "smaller-plenty",
   "metadata": {},
   "outputs": [
    {
     "name": "stdout",
     "output_type": "stream",
     "text": [
      "Iteración: 1  Resultado  [0.4  1.76]\n",
      "Iteración: 2  Resultado  [0.49589361 1.98342347]\n",
      "Iteración: 3  Resultado  [0.49998761 1.99993705]\n"
     ]
    }
   ],
   "source": [
    "while error>0.001:\n",
    "    c+=1\n",
    "    r= jacobiano(x)\n",
    "    feval = Fx(x)\n",
    "    resultado =x-np.dot(r,feval)\n",
    "    \n",
    "    numerador = np.amax( abs((resultado - x)))\n",
    "    denominador = np.amax( abs(resultado))\n",
    "    error = numerador/denominador\n",
    "    if error>=0.001:\n",
    "        print(\"Iteración:\",c,\" Resultado \",resultado)\n",
    "        x=resultado"
   ]
  },
  {
   "cell_type": "markdown",
   "id": "mechanical-female",
   "metadata": {},
   "source": [
    "# Metodo Punto Fijo"
   ]
  },
  {
   "cell_type": "code",
   "execution_count": 16,
   "id": "statistical-knight",
   "metadata": {},
   "outputs": [],
   "source": [
    "def punto_fijo(x):\n",
    "    T = np.array([(-4*x[0]**2-1/4*x[1]**2-8)/-20,(-1/2*x[0]*x[1]**2-2*x[0]-8)/-5])\n",
    "    return T"
   ]
  },
  {
   "cell_type": "code",
   "execution_count": 17,
   "id": "finnish-parliament",
   "metadata": {},
   "outputs": [],
   "source": [
    "x=np.array([0,0])\n",
    "x=x.astype(float)\n",
    "error=1"
   ]
  },
  {
   "cell_type": "code",
   "execution_count": 18,
   "id": "original-thanks",
   "metadata": {},
   "outputs": [
    {
     "name": "stdout",
     "output_type": "stream",
     "text": [
      "Vector resultado:  [0.4 1.6]\n",
      "Vector resultado:  [0.464  1.8624]\n",
      "Vector resultado:  [0.48641587 1.94653997]\n",
      "Vector resultado:  [0.4946828  1.97887019]\n",
      "Vector resultado:  [0.49789131 1.99158731]\n",
      "Vector resultado:  [0.4991594  1.99664113]\n",
      "Vector resultado:  [0.49966422 1.99865744]\n"
     ]
    }
   ],
   "source": [
    "while error>0.001:\n",
    "    r=punto_fijo(x)\n",
    "    resultado=r\n",
    "    numerador = np.amax(abs(resultado-x))\n",
    "    denominador = np.amax(abs(resultado))\n",
    "    error= numerador/denominador\n",
    "    if error>=0.001:\n",
    "        print(\"Vector resultado: \",resultado)\n",
    "        x=resultado"
   ]
  }
 ],
 "metadata": {
  "kernelspec": {
   "display_name": "Python 3",
   "language": "python",
   "name": "python3"
  },
  "language_info": {
   "codemirror_mode": {
    "name": "ipython",
    "version": 3
   },
   "file_extension": ".py",
   "mimetype": "text/x-python",
   "name": "python",
   "nbconvert_exporter": "python",
   "pygments_lexer": "ipython3",
   "version": "3.9.2"
  }
 },
 "nbformat": 4,
 "nbformat_minor": 5
}
